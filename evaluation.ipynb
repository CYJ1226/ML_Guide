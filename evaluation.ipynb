{
 "cells": [
  {
   "cell_type": "markdown",
   "id": "2a9e9f56",
   "metadata": {},
   "source": [
    "# 이진 분류 평가지표"
   ]
  },
  {
   "cell_type": "markdown",
   "id": "c7aba69f",
   "metadata": {},
   "source": [
    "1. 정확도 (Accuracy)\n",
    "2. 오차행렬 (Confusion Matrix)\n",
    "3. 정밀도 (Precision)\n",
    "4. 재현율 (Recall)\n",
    "5. F1 SCORE\n",
    "6. ROC AUC"
   ]
  },
  {
   "cell_type": "markdown",
   "id": "797f29b4",
   "metadata": {},
   "source": [
    "## 1. 정확도"
   ]
  },
  {
   "cell_type": "markdown",
   "id": "acd80195",
   "metadata": {},
   "source": [
    "- 전체 예측 중 실제 데이터가 얼마나 들어맞는지를 나타내는 지표\n",
    "- (TP + TN) / (TN + FP + FN + TP)"
   ]
  },
  {
   "cell_type": "markdown",
   "id": "19dfa823",
   "metadata": {},
   "source": [
    "## 2. 오차행렬"
   ]
  },
  {
   "cell_type": "markdown",
   "id": "f0d8efed",
   "metadata": {},
   "source": [
    "- 실제 데이터의 0과 1, 예측 데이터의 0과 1로 2X2 행렬을 만들어 오차의 종류 확인 가능"
   ]
  },
  {
   "cell_type": "markdown",
   "id": "39013d14",
   "metadata": {},
   "source": [
    "## 3. 정밀도"
   ]
  },
  {
   "cell_type": "markdown",
   "id": "320aa157",
   "metadata": {},
   "source": [
    "- Positive로 예측한 데이터 중 실제로 Positive인 비율\n",
    "- TP / (FP + TP)\n",
    "- Negative인것을 Positive로 예측하는 경우를 줄여야 함"
   ]
  },
  {
   "cell_type": "markdown",
   "id": "00bcb37f",
   "metadata": {},
   "source": [
    "## 4. 재현율"
   ]
  },
  {
   "cell_type": "markdown",
   "id": "71a601c5",
   "metadata": {},
   "source": [
    "- 실제 Positive인 데이터 중 Positive라고 옳게 예측한 비율\n",
    "- TP / (FN + TP)\n",
    "- Positive인 것을 Negative로 예측하는 경우를 줄여야 함"
   ]
  },
  {
   "cell_type": "code",
   "execution_count": 1,
   "id": "a9e89b44",
   "metadata": {},
   "outputs": [],
   "source": [
    "import numpy as np\n",
    "import pandas as pd\n",
    "import matplotlib.pyplot as plt\n",
    "import seaborn as sns"
   ]
  },
  {
   "cell_type": "code",
   "execution_count": 2,
   "id": "661f5712",
   "metadata": {},
   "outputs": [],
   "source": [
    "titanic_df = pd.read_csv('titanic_train.csv')"
   ]
  },
  {
   "cell_type": "code",
   "execution_count": 3,
   "id": "be07c499",
   "metadata": {},
   "outputs": [
    {
     "data": {
      "text/html": [
       "<div>\n",
       "<style scoped>\n",
       "    .dataframe tbody tr th:only-of-type {\n",
       "        vertical-align: middle;\n",
       "    }\n",
       "\n",
       "    .dataframe tbody tr th {\n",
       "        vertical-align: top;\n",
       "    }\n",
       "\n",
       "    .dataframe thead th {\n",
       "        text-align: right;\n",
       "    }\n",
       "</style>\n",
       "<table border=\"1\" class=\"dataframe\">\n",
       "  <thead>\n",
       "    <tr style=\"text-align: right;\">\n",
       "      <th></th>\n",
       "      <th>PassengerId</th>\n",
       "      <th>Survived</th>\n",
       "      <th>Pclass</th>\n",
       "      <th>Name</th>\n",
       "      <th>Sex</th>\n",
       "      <th>Age</th>\n",
       "      <th>SibSp</th>\n",
       "      <th>Parch</th>\n",
       "      <th>Ticket</th>\n",
       "      <th>Fare</th>\n",
       "      <th>Cabin</th>\n",
       "      <th>Embarked</th>\n",
       "    </tr>\n",
       "  </thead>\n",
       "  <tbody>\n",
       "    <tr>\n",
       "      <th>0</th>\n",
       "      <td>1</td>\n",
       "      <td>0</td>\n",
       "      <td>3</td>\n",
       "      <td>Braund, Mr. Owen Harris</td>\n",
       "      <td>male</td>\n",
       "      <td>22.0</td>\n",
       "      <td>1</td>\n",
       "      <td>0</td>\n",
       "      <td>A/5 21171</td>\n",
       "      <td>7.2500</td>\n",
       "      <td>NaN</td>\n",
       "      <td>S</td>\n",
       "    </tr>\n",
       "    <tr>\n",
       "      <th>1</th>\n",
       "      <td>2</td>\n",
       "      <td>1</td>\n",
       "      <td>1</td>\n",
       "      <td>Cumings, Mrs. John Bradley (Florence Briggs Th...</td>\n",
       "      <td>female</td>\n",
       "      <td>38.0</td>\n",
       "      <td>1</td>\n",
       "      <td>0</td>\n",
       "      <td>PC 17599</td>\n",
       "      <td>71.2833</td>\n",
       "      <td>C85</td>\n",
       "      <td>C</td>\n",
       "    </tr>\n",
       "    <tr>\n",
       "      <th>2</th>\n",
       "      <td>3</td>\n",
       "      <td>1</td>\n",
       "      <td>3</td>\n",
       "      <td>Heikkinen, Miss. Laina</td>\n",
       "      <td>female</td>\n",
       "      <td>26.0</td>\n",
       "      <td>0</td>\n",
       "      <td>0</td>\n",
       "      <td>STON/O2. 3101282</td>\n",
       "      <td>7.9250</td>\n",
       "      <td>NaN</td>\n",
       "      <td>S</td>\n",
       "    </tr>\n",
       "    <tr>\n",
       "      <th>3</th>\n",
       "      <td>4</td>\n",
       "      <td>1</td>\n",
       "      <td>1</td>\n",
       "      <td>Futrelle, Mrs. Jacques Heath (Lily May Peel)</td>\n",
       "      <td>female</td>\n",
       "      <td>35.0</td>\n",
       "      <td>1</td>\n",
       "      <td>0</td>\n",
       "      <td>113803</td>\n",
       "      <td>53.1000</td>\n",
       "      <td>C123</td>\n",
       "      <td>S</td>\n",
       "    </tr>\n",
       "    <tr>\n",
       "      <th>4</th>\n",
       "      <td>5</td>\n",
       "      <td>0</td>\n",
       "      <td>3</td>\n",
       "      <td>Allen, Mr. William Henry</td>\n",
       "      <td>male</td>\n",
       "      <td>35.0</td>\n",
       "      <td>0</td>\n",
       "      <td>0</td>\n",
       "      <td>373450</td>\n",
       "      <td>8.0500</td>\n",
       "      <td>NaN</td>\n",
       "      <td>S</td>\n",
       "    </tr>\n",
       "  </tbody>\n",
       "</table>\n",
       "</div>"
      ],
      "text/plain": [
       "   PassengerId  Survived  Pclass  \\\n",
       "0            1         0       3   \n",
       "1            2         1       1   \n",
       "2            3         1       3   \n",
       "3            4         1       1   \n",
       "4            5         0       3   \n",
       "\n",
       "                                                Name     Sex   Age  SibSp  \\\n",
       "0                            Braund, Mr. Owen Harris    male  22.0      1   \n",
       "1  Cumings, Mrs. John Bradley (Florence Briggs Th...  female  38.0      1   \n",
       "2                             Heikkinen, Miss. Laina  female  26.0      0   \n",
       "3       Futrelle, Mrs. Jacques Heath (Lily May Peel)  female  35.0      1   \n",
       "4                           Allen, Mr. William Henry    male  35.0      0   \n",
       "\n",
       "   Parch            Ticket     Fare Cabin Embarked  \n",
       "0      0         A/5 21171   7.2500   NaN        S  \n",
       "1      0          PC 17599  71.2833   C85        C  \n",
       "2      0  STON/O2. 3101282   7.9250   NaN        S  \n",
       "3      0            113803  53.1000  C123        S  \n",
       "4      0            373450   8.0500   NaN        S  "
      ]
     },
     "execution_count": 3,
     "metadata": {},
     "output_type": "execute_result"
    }
   ],
   "source": [
    "titanic_df.head()"
   ]
  },
  {
   "cell_type": "code",
   "execution_count": 4,
   "id": "cf5840de",
   "metadata": {},
   "outputs": [
    {
     "data": {
      "text/plain": [
       "PassengerId      0\n",
       "Survived         0\n",
       "Pclass           0\n",
       "Name             0\n",
       "Sex              0\n",
       "Age            177\n",
       "SibSp            0\n",
       "Parch            0\n",
       "Ticket           0\n",
       "Fare             0\n",
       "Cabin          687\n",
       "Embarked         2\n",
       "dtype: int64"
      ]
     },
     "execution_count": 4,
     "metadata": {},
     "output_type": "execute_result"
    }
   ],
   "source": [
    "titanic_df.isna().sum()"
   ]
  },
  {
   "cell_type": "code",
   "execution_count": 5,
   "id": "aec09dcb",
   "metadata": {},
   "outputs": [],
   "source": [
    "titanic_df['Age'] = titanic_df['Age'].fillna(round(titanic_df['Age'].mean(), 2))"
   ]
  },
  {
   "cell_type": "code",
   "execution_count": 6,
   "id": "1ab88eca",
   "metadata": {},
   "outputs": [],
   "source": [
    "titanic_df.fillna('N', inplace=True)"
   ]
  },
  {
   "cell_type": "code",
   "execution_count": 7,
   "id": "61ffdec4",
   "metadata": {},
   "outputs": [
    {
     "data": {
      "text/plain": [
       "PassengerId    0\n",
       "Survived       0\n",
       "Pclass         0\n",
       "Name           0\n",
       "Sex            0\n",
       "Age            0\n",
       "SibSp          0\n",
       "Parch          0\n",
       "Ticket         0\n",
       "Fare           0\n",
       "Cabin          0\n",
       "Embarked       0\n",
       "dtype: int64"
      ]
     },
     "execution_count": 7,
     "metadata": {},
     "output_type": "execute_result"
    }
   ],
   "source": [
    "titanic_df.isna().sum()"
   ]
  },
  {
   "cell_type": "code",
   "execution_count": 8,
   "id": "c9d9f4c1",
   "metadata": {},
   "outputs": [],
   "source": [
    "titanic_df.Cabin = titanic_df.Cabin.str[0]"
   ]
  },
  {
   "cell_type": "code",
   "execution_count": 9,
   "id": "1c3d6455",
   "metadata": {},
   "outputs": [
    {
     "data": {
      "text/plain": [
       "N    687\n",
       "C     59\n",
       "B     47\n",
       "D     33\n",
       "E     32\n",
       "A     15\n",
       "F     13\n",
       "G      4\n",
       "T      1\n",
       "Name: Cabin, dtype: int64"
      ]
     },
     "execution_count": 9,
     "metadata": {},
     "output_type": "execute_result"
    }
   ],
   "source": [
    "titanic_df.Cabin.value_counts()"
   ]
  },
  {
   "cell_type": "code",
   "execution_count": 10,
   "id": "6dfc0f32",
   "metadata": {},
   "outputs": [],
   "source": [
    "def age_band(x):\n",
    "    if x < 0:\n",
    "        return 'Unknown'\n",
    "    elif x<=5:\n",
    "        return 'Baby'\n",
    "    elif x<=12:\n",
    "        return 'Child'\n",
    "    elif x<=18:\n",
    "        return 'Teenager'\n",
    "    elif x<=25:\n",
    "        return 'Student'\n",
    "    elif x<=35:\n",
    "        return 'Young Adult'\n",
    "    elif x<=60:\n",
    "        return 'Adult'\n",
    "    else:\n",
    "        return 'Elderly'\n",
    "    \n",
    "titanic_df['Age_cat'] = titanic_df['Age'].map(age_band)"
   ]
  },
  {
   "cell_type": "code",
   "execution_count": 11,
   "id": "fde9a47b",
   "metadata": {},
   "outputs": [],
   "source": [
    "from sklearn.preprocessing import LabelEncoder"
   ]
  },
  {
   "cell_type": "code",
   "execution_count": 12,
   "id": "f31ee72d",
   "metadata": {},
   "outputs": [],
   "source": [
    "def encode_features(x):\n",
    "    f = ['Cabin', 'Sex', 'Embarked']\n",
    "    for i in f:\n",
    "        le = LabelEncoder()\n",
    "        x[i] = le.fit_transform(x[i])\n",
    "    \n",
    "    return x"
   ]
  },
  {
   "cell_type": "code",
   "execution_count": 13,
   "id": "d425d2a4",
   "metadata": {},
   "outputs": [],
   "source": [
    "titanic_df = encode_features(titanic_df)"
   ]
  },
  {
   "cell_type": "code",
   "execution_count": 14,
   "id": "5f5a6335",
   "metadata": {},
   "outputs": [],
   "source": [
    "titanic_df = titanic_df.drop(['Name', 'Ticket', 'PassengerId', 'Age_cat'], axis=1)"
   ]
  },
  {
   "cell_type": "code",
   "execution_count": 15,
   "id": "7e784d55",
   "metadata": {},
   "outputs": [],
   "source": [
    "from sklearn.tree import DecisionTreeClassifier\n",
    "from sklearn.linear_model import LogisticRegression\n",
    "from sklearn.ensemble import RandomForestClassifier\n",
    "from sklearn.metrics import accuracy_score"
   ]
  },
  {
   "cell_type": "code",
   "execution_count": 16,
   "id": "7c776857",
   "metadata": {},
   "outputs": [],
   "source": [
    "dt = DecisionTreeClassifier(random_state=11)\n",
    "lr = LogisticRegression(solver='liblinear', random_state=11)\n",
    "rf = RandomForestClassifier(random_state=11)"
   ]
  },
  {
   "cell_type": "code",
   "execution_count": 17,
   "id": "ca86d45e",
   "metadata": {},
   "outputs": [],
   "source": [
    "from sklearn.metrics import accuracy_score, precision_score, recall_score, confusion_matrix"
   ]
  },
  {
   "cell_type": "markdown",
   "id": "9d4a34e5",
   "metadata": {},
   "source": [
    "### 정밀도: precision_score()"
   ]
  },
  {
   "cell_type": "markdown",
   "id": "f725c9ff",
   "metadata": {},
   "source": [
    "### 재현율: recall_score()"
   ]
  },
  {
   "cell_type": "code",
   "execution_count": 18,
   "id": "a3e861b8",
   "metadata": {},
   "outputs": [],
   "source": [
    "def get_clf_eval(y_test, pred):\n",
    "    confusion = confusion_matrix(y_test, pred)\n",
    "    accuracy = accuracy_score(y_test, pred)\n",
    "    precision = precision_score(y_test, pred)\n",
    "    recall = recall_score(y_test, pred)\n",
    "    \n",
    "    print('오차행렬')\n",
    "    print(confusion, '\\n')\n",
    "    print(f'정확도: {accuracy:.2f}\\n정밀도: {precision:.2f}\\n재현율: {recall:.2f}')"
   ]
  },
  {
   "cell_type": "code",
   "execution_count": 19,
   "id": "761c226e",
   "metadata": {},
   "outputs": [],
   "source": [
    "from sklearn.model_selection import train_test_split\n",
    "from sklearn.linear_model import LogisticRegression"
   ]
  },
  {
   "cell_type": "code",
   "execution_count": 20,
   "id": "6a11ae02",
   "metadata": {},
   "outputs": [],
   "source": [
    "y = titanic_df['Survived']\n",
    "X = titanic_df.drop('Survived', axis=1)"
   ]
  },
  {
   "cell_type": "code",
   "execution_count": 21,
   "id": "7b719527",
   "metadata": {},
   "outputs": [],
   "source": [
    "X_train, X_test, y_train, y_test = train_test_split(X, y, test_size=0.2, random_state=11)"
   ]
  },
  {
   "cell_type": "code",
   "execution_count": 22,
   "id": "043fa90c",
   "metadata": {},
   "outputs": [
    {
     "data": {
      "text/plain": [
       "RandomForestClassifier(random_state=11)"
      ]
     },
     "execution_count": 22,
     "metadata": {},
     "output_type": "execute_result"
    }
   ],
   "source": [
    "dt.fit(X_train, y_train)\n",
    "lr.fit(X_train, y_train)\n",
    "rf.fit(X_train, y_train)"
   ]
  },
  {
   "cell_type": "code",
   "execution_count": 23,
   "id": "c59d456c",
   "metadata": {},
   "outputs": [],
   "source": [
    "pred_dt = dt.predict(X_test)\n",
    "pred_lr = lr.predict(X_test)\n",
    "pred_rf = rf.predict(X_test)"
   ]
  },
  {
   "cell_type": "code",
   "execution_count": 24,
   "id": "43c43171",
   "metadata": {},
   "outputs": [
    {
     "name": "stdout",
     "output_type": "stream",
     "text": [
      "DecisionTreeClassifier\n",
      "오차행렬\n",
      "[[99 19]\n",
      " [19 42]] \n",
      "\n",
      "정확도: 0.79\n",
      "정밀도: 0.69\n",
      "재현율: 0.69\n",
      "LogisticRegression\n",
      "오차행렬\n",
      "[[108  10]\n",
      " [ 14  47]] \n",
      "\n",
      "정확도: 0.87\n",
      "정밀도: 0.82\n",
      "재현율: 0.77\n",
      "RandomForestClassifier\n",
      "오차행렬\n",
      "[[107  11]\n",
      " [ 15  46]] \n",
      "\n",
      "정확도: 0.85\n",
      "정밀도: 0.81\n",
      "재현율: 0.75\n"
     ]
    }
   ],
   "source": [
    "print('DecisionTreeClassifier')\n",
    "get_clf_eval(y_test, pred_dt)\n",
    "print('LogisticRegression')\n",
    "get_clf_eval(y_test, pred_lr)\n",
    "print('RandomForestClassifier')\n",
    "get_clf_eval(y_test, pred_rf)"
   ]
  },
  {
   "cell_type": "markdown",
   "id": "3c5609c2",
   "metadata": {},
   "source": [
    "## 예측확률: predict_proba()"
   ]
  },
  {
   "cell_type": "code",
   "execution_count": 25,
   "id": "f767062f",
   "metadata": {},
   "outputs": [
    {
     "data": {
      "text/plain": [
       "array([[0.44935593, 0.55064407],\n",
       "       [0.86335453, 0.13664547],\n",
       "       [0.86429807, 0.13570193],\n",
       "       [0.84968483, 0.15031517],\n",
       "       [0.82343377, 0.17656623],\n",
       "       [0.84231202, 0.15768798],\n",
       "       [0.8709566 , 0.1290434 ],\n",
       "       [0.27228407, 0.72771593],\n",
       "       [0.78185087, 0.21814913],\n",
       "       [0.33185975, 0.66814025],\n",
       "       [0.86178747, 0.13821253],\n",
       "       [0.87058041, 0.12941959],\n",
       "       [0.86426114, 0.13573886],\n",
       "       [0.87066116, 0.12933884],\n",
       "       [0.56034015, 0.43965985],\n",
       "       [0.85002958, 0.14997042],\n",
       "       [0.8895431 , 0.1104569 ],\n",
       "       [0.74250684, 0.25749316],\n",
       "       [0.71120227, 0.28879773],\n",
       "       [0.23776137, 0.76223863],\n",
       "       [0.75684062, 0.24315938],\n",
       "       [0.62428093, 0.37571907],\n",
       "       [0.8465518 , 0.1534482 ],\n",
       "       [0.82711127, 0.17288873],\n",
       "       [0.86825802, 0.13174198],\n",
       "       [0.77004142, 0.22995858],\n",
       "       [0.82946324, 0.17053676],\n",
       "       [0.90336287, 0.09663713],\n",
       "       [0.73371998, 0.26628002],\n",
       "       [0.68847387, 0.31152613],\n",
       "       [0.07646967, 0.92353033],\n",
       "       [0.22532061, 0.77467939],\n",
       "       [0.87161841, 0.12838159],\n",
       "       [0.24075254, 0.75924746],\n",
       "       [0.62711628, 0.37288372],\n",
       "       [0.77004142, 0.22995858],\n",
       "       [0.90554248, 0.09445752],\n",
       "       [0.40602442, 0.59397558],\n",
       "       [0.93043557, 0.06956443],\n",
       "       [0.87650469, 0.12349531],\n",
       "       [0.69797283, 0.30202717],\n",
       "       [0.89664574, 0.10335426],\n",
       "       [0.21993322, 0.78006678],\n",
       "       [0.3156568 , 0.6843432 ],\n",
       "       [0.37942543, 0.62057457],\n",
       "       [0.37933206, 0.62066794],\n",
       "       [0.07161248, 0.92838752],\n",
       "       [0.55777618, 0.44222382],\n",
       "       [0.07914445, 0.92085555],\n",
       "       [0.86803256, 0.13196744],\n",
       "       [0.50790524, 0.49209476],\n",
       "       [0.87066116, 0.12933884],\n",
       "       [0.85576343, 0.14423657],\n",
       "       [0.34869935, 0.65130065],\n",
       "       [0.71558362, 0.28441638],\n",
       "       [0.78853205, 0.21146795],\n",
       "       [0.74619222, 0.25380778],\n",
       "       [0.86429164, 0.13570836],\n",
       "       [0.84078934, 0.15921066],\n",
       "       [0.59838549, 0.40161451],\n",
       "       [0.73532031, 0.26467969],\n",
       "       [0.88705548, 0.11294452],\n",
       "       [0.54553275, 0.45446725],\n",
       "       [0.55326741, 0.44673259],\n",
       "       [0.62583419, 0.37416581],\n",
       "       [0.8836323 , 0.1163677 ],\n",
       "       [0.35181128, 0.64818872],\n",
       "       [0.39903224, 0.60096776],\n",
       "       [0.08300811, 0.91699189],\n",
       "       [0.85072665, 0.14927335],\n",
       "       [0.86778761, 0.13221239],\n",
       "       [0.8307085 , 0.1692915 ],\n",
       "       [0.87648991, 0.12351009],\n",
       "       [0.05959891, 0.94040109],\n",
       "       [0.78735723, 0.21264277],\n",
       "       [0.87066116, 0.12933884],\n",
       "       [0.71654055, 0.28345945],\n",
       "       [0.79159769, 0.20840231],\n",
       "       [0.20303047, 0.79696953],\n",
       "       [0.86429164, 0.13570836],\n",
       "       [0.24004993, 0.75995007],\n",
       "       [0.37123426, 0.62876574],\n",
       "       [0.08369742, 0.91630258],\n",
       "       [0.84018587, 0.15981413],\n",
       "       [0.07766706, 0.92233294],\n",
       "       [0.08973232, 0.91026768],\n",
       "       [0.84722962, 0.15277038],\n",
       "       [0.86241457, 0.13758543],\n",
       "       [0.16539717, 0.83460283],\n",
       "       [0.87066116, 0.12933884],\n",
       "       [0.87066116, 0.12933884],\n",
       "       [0.77004142, 0.22995858],\n",
       "       [0.75416721, 0.24583279],\n",
       "       [0.87066116, 0.12933884],\n",
       "       [0.37933206, 0.62066794],\n",
       "       [0.89883849, 0.10116151],\n",
       "       [0.07361393, 0.92638607],\n",
       "       [0.87897176, 0.12102824],\n",
       "       [0.60197805, 0.39802195],\n",
       "       [0.06738958, 0.93261042],\n",
       "       [0.4794821 , 0.5205179 ],\n",
       "       [0.90469237, 0.09530763],\n",
       "       [0.05673707, 0.94326293],\n",
       "       [0.88180739, 0.11819261],\n",
       "       [0.4558787 , 0.5441213 ],\n",
       "       [0.86133378, 0.13866622],\n",
       "       [0.84974865, 0.15025135],\n",
       "       [0.8507284 , 0.1492716 ],\n",
       "       [0.55502682, 0.44497318],\n",
       "       [0.88427028, 0.11572972],\n",
       "       [0.84747398, 0.15252602],\n",
       "       [0.87269509, 0.12730491],\n",
       "       [0.67538642, 0.32461358],\n",
       "       [0.48275122, 0.51724878],\n",
       "       [0.86825802, 0.13174198],\n",
       "       [0.91597155, 0.08402845],\n",
       "       [0.84194182, 0.15805818],\n",
       "       [0.78872802, 0.21127198],\n",
       "       [0.11141713, 0.88858287],\n",
       "       [0.90534818, 0.09465182],\n",
       "       [0.87071815, 0.12928185],\n",
       "       [0.86905338, 0.13094662],\n",
       "       [0.91525759, 0.08474241],\n",
       "       [0.58196805, 0.41803195],\n",
       "       [0.98025049, 0.01974951],\n",
       "       [0.87071815, 0.12928185],\n",
       "       [0.87218977, 0.12781023],\n",
       "       [0.71194584, 0.28805416],\n",
       "       [0.34348798, 0.65651202],\n",
       "       [0.70226611, 0.29773389],\n",
       "       [0.06738958, 0.93261042],\n",
       "       [0.59805538, 0.40194462],\n",
       "       [0.32885126, 0.67114874],\n",
       "       [0.4864476 , 0.5135524 ],\n",
       "       [0.42864683, 0.57135317],\n",
       "       [0.56346605, 0.43653395],\n",
       "       [0.25853118, 0.74146882],\n",
       "       [0.7764325 , 0.2235675 ],\n",
       "       [0.87632396, 0.12367604],\n",
       "       [0.15009286, 0.84990714],\n",
       "       [0.1343464 , 0.8656536 ],\n",
       "       [0.8507284 , 0.1492716 ],\n",
       "       [0.86772032, 0.13227968],\n",
       "       [0.89628731, 0.10371269],\n",
       "       [0.88613293, 0.11386707],\n",
       "       [0.34797662, 0.65202338],\n",
       "       [0.89917008, 0.10082992],\n",
       "       [0.7299736 , 0.2700264 ],\n",
       "       [0.12221646, 0.87778354],\n",
       "       [0.81719659, 0.18280341],\n",
       "       [0.6186559 , 0.3813441 ],\n",
       "       [0.37370229, 0.62629771],\n",
       "       [0.38348208, 0.61651792],\n",
       "       [0.86463461, 0.13536539],\n",
       "       [0.25161242, 0.74838758],\n",
       "       [0.10388333, 0.89611667],\n",
       "       [0.57648034, 0.42351966],\n",
       "       [0.85476786, 0.14523214],\n",
       "       [0.3141494 , 0.6858506 ],\n",
       "       [0.33907817, 0.66092183],\n",
       "       [0.84347651, 0.15652349],\n",
       "       [0.23261123, 0.76738877],\n",
       "       [0.88859228, 0.11140772],\n",
       "       [0.35220439, 0.64779561],\n",
       "       [0.58555257, 0.41444743],\n",
       "       [0.3614316 , 0.6385684 ],\n",
       "       [0.13634017, 0.86365983],\n",
       "       [0.67797017, 0.32202983],\n",
       "       [0.88600037, 0.11399963],\n",
       "       [0.13946104, 0.86053896],\n",
       "       [0.8709566 , 0.1290434 ],\n",
       "       [0.20615979, 0.79384021],\n",
       "       [0.7671979 , 0.2328021 ],\n",
       "       [0.77437201, 0.22562799],\n",
       "       [0.50324077, 0.49675923],\n",
       "       [0.91079804, 0.08920196],\n",
       "       [0.84970673, 0.15029327],\n",
       "       [0.54874561, 0.45125439],\n",
       "       [0.48191929, 0.51808071]])"
      ]
     },
     "execution_count": 25,
     "metadata": {},
     "output_type": "execute_result"
    }
   ],
   "source": [
    "pred_prob = lr.predict_proba(X_test)\n",
    "pred_prob"
   ]
  },
  {
   "cell_type": "markdown",
   "id": "ce8e38fe",
   "metadata": {},
   "source": [
    "## 임곗값 변화에 따른 평가지표 값: precision_recall_curve()"
   ]
  },
  {
   "cell_type": "code",
   "execution_count": 26,
   "id": "545b9e3a",
   "metadata": {},
   "outputs": [],
   "source": [
    "from sklearn.metrics import precision_recall_curve"
   ]
  },
  {
   "cell_type": "code",
   "execution_count": 27,
   "id": "684ba528",
   "metadata": {},
   "outputs": [],
   "source": [
    "pred_prob = lr.predict_proba(X_test)[:,1]"
   ]
  },
  {
   "cell_type": "code",
   "execution_count": 28,
   "id": "6ad7d611",
   "metadata": {},
   "outputs": [],
   "source": [
    "precisions, recalls, thresholds = precision_recall_curve(y_test, pred_prob)"
   ]
  },
  {
   "cell_type": "code",
   "execution_count": 29,
   "id": "188f04f1",
   "metadata": {},
   "outputs": [
    {
     "name": "stdout",
     "output_type": "stream",
     "text": [
      "반환된 분류 결정 임곗값 배열의 Shape:  (147,)\n"
     ]
    }
   ],
   "source": [
    "print('반환된 분류 결정 임곗값 배열의 Shape: ', thresholds.shape)"
   ]
  },
  {
   "cell_type": "code",
   "execution_count": 30,
   "id": "a0729948",
   "metadata": {},
   "outputs": [
    {
     "name": "stdout",
     "output_type": "stream",
     "text": [
      "샘플용 10개의 임곗값:  [0.12 0.13 0.15 0.17 0.26 0.38 0.49 0.63 0.76 0.9 ]\n"
     ]
    }
   ],
   "source": [
    "thr_index = np.arange(0, thresholds.shape[0], 15)\n",
    "print('샘플용 10개의 임곗값: ', np.round(thresholds[thr_index],2))"
   ]
  },
  {
   "cell_type": "code",
   "execution_count": 31,
   "id": "3764cacc",
   "metadata": {},
   "outputs": [
    {
     "name": "stdout",
     "output_type": "stream",
     "text": [
      "샘플 임곗값별 정밀도:  [0.38 0.42 0.45 0.52 0.62 0.68 0.8  0.93 0.96 1.  ]\n"
     ]
    }
   ],
   "source": [
    "print('샘플 임곗값별 정밀도: ', np.round(precisions[thr_index],2))"
   ]
  },
  {
   "cell_type": "code",
   "execution_count": 32,
   "id": "40599b27",
   "metadata": {},
   "outputs": [
    {
     "name": "stdout",
     "output_type": "stream",
     "text": [
      "샘플 임곗값별 재현율:  [1.   0.97 0.9  0.9  0.9  0.82 0.77 0.66 0.44 0.21]\n"
     ]
    }
   ],
   "source": [
    "print('샘플 임곗값별 재현율: ', np.round(recalls[thr_index], 2))"
   ]
  },
  {
   "cell_type": "code",
   "execution_count": 33,
   "id": "e1574f33",
   "metadata": {},
   "outputs": [
    {
     "data": {
      "text/html": [
       "<div>\n",
       "<style scoped>\n",
       "    .dataframe tbody tr th:only-of-type {\n",
       "        vertical-align: middle;\n",
       "    }\n",
       "\n",
       "    .dataframe tbody tr th {\n",
       "        vertical-align: top;\n",
       "    }\n",
       "\n",
       "    .dataframe thead th {\n",
       "        text-align: right;\n",
       "    }\n",
       "</style>\n",
       "<table border=\"1\" class=\"dataframe\">\n",
       "  <thead>\n",
       "    <tr style=\"text-align: right;\">\n",
       "      <th></th>\n",
       "      <th>precision</th>\n",
       "      <th>recall</th>\n",
       "    </tr>\n",
       "  </thead>\n",
       "  <tbody>\n",
       "    <tr>\n",
       "      <th>0.12</th>\n",
       "      <td>0.38</td>\n",
       "      <td>1.00</td>\n",
       "    </tr>\n",
       "    <tr>\n",
       "      <th>0.13</th>\n",
       "      <td>0.42</td>\n",
       "      <td>0.97</td>\n",
       "    </tr>\n",
       "    <tr>\n",
       "      <th>0.15</th>\n",
       "      <td>0.45</td>\n",
       "      <td>0.90</td>\n",
       "    </tr>\n",
       "    <tr>\n",
       "      <th>0.17</th>\n",
       "      <td>0.52</td>\n",
       "      <td>0.90</td>\n",
       "    </tr>\n",
       "    <tr>\n",
       "      <th>0.26</th>\n",
       "      <td>0.62</td>\n",
       "      <td>0.90</td>\n",
       "    </tr>\n",
       "    <tr>\n",
       "      <th>0.38</th>\n",
       "      <td>0.68</td>\n",
       "      <td>0.82</td>\n",
       "    </tr>\n",
       "    <tr>\n",
       "      <th>0.49</th>\n",
       "      <td>0.80</td>\n",
       "      <td>0.77</td>\n",
       "    </tr>\n",
       "    <tr>\n",
       "      <th>0.63</th>\n",
       "      <td>0.93</td>\n",
       "      <td>0.66</td>\n",
       "    </tr>\n",
       "    <tr>\n",
       "      <th>0.76</th>\n",
       "      <td>0.96</td>\n",
       "      <td>0.44</td>\n",
       "    </tr>\n",
       "    <tr>\n",
       "      <th>0.90</th>\n",
       "      <td>1.00</td>\n",
       "      <td>0.21</td>\n",
       "    </tr>\n",
       "  </tbody>\n",
       "</table>\n",
       "</div>"
      ],
      "text/plain": [
       "      precision  recall\n",
       "0.12       0.38    1.00\n",
       "0.13       0.42    0.97\n",
       "0.15       0.45    0.90\n",
       "0.17       0.52    0.90\n",
       "0.26       0.62    0.90\n",
       "0.38       0.68    0.82\n",
       "0.49       0.80    0.77\n",
       "0.63       0.93    0.66\n",
       "0.76       0.96    0.44\n",
       "0.90       1.00    0.21"
      ]
     },
     "execution_count": 33,
     "metadata": {},
     "output_type": "execute_result"
    }
   ],
   "source": [
    "pd.DataFrame({'precision': np.round(precisions[thr_index],2), 'recall': np.round(recalls[thr_index], 2)}, index=np.round(thresholds[thr_index],2))"
   ]
  },
  {
   "cell_type": "markdown",
   "id": "ad735760",
   "metadata": {},
   "source": [
    "### threshold에 따른 precision, recall 시각화"
   ]
  },
  {
   "cell_type": "code",
   "execution_count": 34,
   "id": "f07a43bc",
   "metadata": {},
   "outputs": [],
   "source": [
    "import matplotlib.ticker as ticker"
   ]
  },
  {
   "cell_type": "code",
   "execution_count": 35,
   "id": "b14e17ef",
   "metadata": {},
   "outputs": [
    {
     "data": {
      "image/png": "[encoded data removed]",
      "text/plain": [
       "<Figure size 800x600 with 1 Axes>"
      ]
     },
     "metadata": {},
     "output_type": "display_data"
    }
   ],
   "source": [
    "def precision_recall_curve_plot(y_test, pred_proba):\n",
    "    precisions, recalls, thresholds = precision_recall_curve(y_test, pred_proba)\n",
    "    \n",
    "    plt.figure(figsize=(8, 6))\n",
    "    threshold_boundary = thresholds.shape[0]\n",
    "    plt.plot(thresholds, precisions[0:threshold_boundary], linestyle='--', label='precision')\n",
    "    plt.plot(thresholds, recalls[0:threshold_boundary], label='recall')\n",
    "    \n",
    "    start, end = plt.xlim()\n",
    "    plt.xticks(np.round(np.arange(start, end, 0.1), 2))\n",
    "    \n",
    "    plt.xlabel('Threshold value')\n",
    "    plt.ylabel('Precision and Recall value')\n",
    "    plt.legend()\n",
    "    plt.grid()\n",
    "    plt.show()\n",
    "    \n",
    "precision_recall_curve_plot(y_test, pred_prob)"
   ]
  },
  {
   "cell_type": "markdown",
   "id": "702c081d",
   "metadata": {},
   "source": [
    "## F1 스코어: 정밀도와 재현율 결합한 지표, 둘다 높을 때 높은 값을 가짐"
   ]
  },
  {
   "cell_type": "code",
   "execution_count": 36,
   "id": "3a84dd47",
   "metadata": {},
   "outputs": [],
   "source": [
    "from sklearn.metrics import f1_score"
   ]
  },
  {
   "cell_type": "code",
   "execution_count": 37,
   "id": "db9a373c",
   "metadata": {},
   "outputs": [
    {
     "data": {
      "text/plain": [
       "0.7966101694915254"
      ]
     },
     "execution_count": 37,
     "metadata": {},
     "output_type": "execute_result"
    }
   ],
   "source": [
    "f1_score(y_test, pred_lr)"
   ]
  },
  {
   "cell_type": "markdown",
   "id": "01e2aa53",
   "metadata": {},
   "source": [
    "# 피마 인디언 당뇨병 예측"
   ]
  },
  {
   "cell_type": "code",
   "execution_count": 43,
   "id": "d5a56aa0",
   "metadata": {},
   "outputs": [],
   "source": [
    "from sklearn.model_selection import train_test_split\n",
    "from sklearn.metrics import accuracy_score, precision_score, recall_score, roc_auc_score\n",
    "from sklearn.metrics import f1_score, confusion_matrix, precision_recall_curve, roc_curve\n",
    "from sklearn.preprocessing import StandardScaler\n",
    "from sklearn.linear_model import LogisticRegression"
   ]
  },
  {
   "cell_type": "code",
   "execution_count": 38,
   "id": "244fabc3",
   "metadata": {},
   "outputs": [],
   "source": [
    "diabetes = pd.read_csv('diabetes.csv')"
   ]
  },
  {
   "cell_type": "code",
   "execution_count": 42,
   "id": "ef3b2a0e",
   "metadata": {},
   "outputs": [
    {
     "data": {
      "text/html": [
       "<div>\n",
       "<style scoped>\n",
       "    .dataframe tbody tr th:only-of-type {\n",
       "        vertical-align: middle;\n",
       "    }\n",
       "\n",
       "    .dataframe tbody tr th {\n",
       "        vertical-align: top;\n",
       "    }\n",
       "\n",
       "    .dataframe thead th {\n",
       "        text-align: right;\n",
       "    }\n",
       "</style>\n",
       "<table border=\"1\" class=\"dataframe\">\n",
       "  <thead>\n",
       "    <tr style=\"text-align: right;\">\n",
       "      <th></th>\n",
       "      <th>Pregnancies</th>\n",
       "      <th>Glucose</th>\n",
       "      <th>BloodPressure</th>\n",
       "      <th>SkinThickness</th>\n",
       "      <th>Insulin</th>\n",
       "      <th>BMI</th>\n",
       "      <th>DiabetesPedigreeFunction</th>\n",
       "      <th>Age</th>\n",
       "      <th>Outcome</th>\n",
       "    </tr>\n",
       "  </thead>\n",
       "  <tbody>\n",
       "    <tr>\n",
       "      <th>0</th>\n",
       "      <td>6</td>\n",
       "      <td>148</td>\n",
       "      <td>72</td>\n",
       "      <td>35</td>\n",
       "      <td>0</td>\n",
       "      <td>33.6</td>\n",
       "      <td>0.627</td>\n",
       "      <td>50</td>\n",
       "      <td>1</td>\n",
       "    </tr>\n",
       "    <tr>\n",
       "      <th>1</th>\n",
       "      <td>1</td>\n",
       "      <td>85</td>\n",
       "      <td>66</td>\n",
       "      <td>29</td>\n",
       "      <td>0</td>\n",
       "      <td>26.6</td>\n",
       "      <td>0.351</td>\n",
       "      <td>31</td>\n",
       "      <td>0</td>\n",
       "    </tr>\n",
       "    <tr>\n",
       "      <th>2</th>\n",
       "      <td>8</td>\n",
       "      <td>183</td>\n",
       "      <td>64</td>\n",
       "      <td>0</td>\n",
       "      <td>0</td>\n",
       "      <td>23.3</td>\n",
       "      <td>0.672</td>\n",
       "      <td>32</td>\n",
       "      <td>1</td>\n",
       "    </tr>\n",
       "    <tr>\n",
       "      <th>3</th>\n",
       "      <td>1</td>\n",
       "      <td>89</td>\n",
       "      <td>66</td>\n",
       "      <td>23</td>\n",
       "      <td>94</td>\n",
       "      <td>28.1</td>\n",
       "      <td>0.167</td>\n",
       "      <td>21</td>\n",
       "      <td>0</td>\n",
       "    </tr>\n",
       "    <tr>\n",
       "      <th>4</th>\n",
       "      <td>0</td>\n",
       "      <td>137</td>\n",
       "      <td>40</td>\n",
       "      <td>35</td>\n",
       "      <td>168</td>\n",
       "      <td>43.1</td>\n",
       "      <td>2.288</td>\n",
       "      <td>33</td>\n",
       "      <td>1</td>\n",
       "    </tr>\n",
       "    <tr>\n",
       "      <th>...</th>\n",
       "      <td>...</td>\n",
       "      <td>...</td>\n",
       "      <td>...</td>\n",
       "      <td>...</td>\n",
       "      <td>...</td>\n",
       "      <td>...</td>\n",
       "      <td>...</td>\n",
       "      <td>...</td>\n",
       "      <td>...</td>\n",
       "    </tr>\n",
       "    <tr>\n",
       "      <th>763</th>\n",
       "      <td>10</td>\n",
       "      <td>101</td>\n",
       "      <td>76</td>\n",
       "      <td>48</td>\n",
       "      <td>180</td>\n",
       "      <td>32.9</td>\n",
       "      <td>0.171</td>\n",
       "      <td>63</td>\n",
       "      <td>0</td>\n",
       "    </tr>\n",
       "    <tr>\n",
       "      <th>764</th>\n",
       "      <td>2</td>\n",
       "      <td>122</td>\n",
       "      <td>70</td>\n",
       "      <td>27</td>\n",
       "      <td>0</td>\n",
       "      <td>36.8</td>\n",
       "      <td>0.340</td>\n",
       "      <td>27</td>\n",
       "      <td>0</td>\n",
       "    </tr>\n",
       "    <tr>\n",
       "      <th>765</th>\n",
       "      <td>5</td>\n",
       "      <td>121</td>\n",
       "      <td>72</td>\n",
       "      <td>23</td>\n",
       "      <td>112</td>\n",
       "      <td>26.2</td>\n",
       "      <td>0.245</td>\n",
       "      <td>30</td>\n",
       "      <td>0</td>\n",
       "    </tr>\n",
       "    <tr>\n",
       "      <th>766</th>\n",
       "      <td>1</td>\n",
       "      <td>126</td>\n",
       "      <td>60</td>\n",
       "      <td>0</td>\n",
       "      <td>0</td>\n",
       "      <td>30.1</td>\n",
       "      <td>0.349</td>\n",
       "      <td>47</td>\n",
       "      <td>1</td>\n",
       "    </tr>\n",
       "    <tr>\n",
       "      <th>767</th>\n",
       "      <td>1</td>\n",
       "      <td>93</td>\n",
       "      <td>70</td>\n",
       "      <td>31</td>\n",
       "      <td>0</td>\n",
       "      <td>30.4</td>\n",
       "      <td>0.315</td>\n",
       "      <td>23</td>\n",
       "      <td>0</td>\n",
       "    </tr>\n",
       "  </tbody>\n",
       "</table>\n",
       "<p>768 rows × 9 columns</p>\n",
       "</div>"
      ],
      "text/plain": [
       "     Pregnancies  Glucose  BloodPressure  SkinThickness  Insulin   BMI  \\\n",
       "0              6      148             72             35        0  33.6   \n",
       "1              1       85             66             29        0  26.6   \n",
       "2              8      183             64              0        0  23.3   \n",
       "3              1       89             66             23       94  28.1   \n",
       "4              0      137             40             35      168  43.1   \n",
       "..           ...      ...            ...            ...      ...   ...   \n",
       "763           10      101             76             48      180  32.9   \n",
       "764            2      122             70             27        0  36.8   \n",
       "765            5      121             72             23      112  26.2   \n",
       "766            1      126             60              0        0  30.1   \n",
       "767            1       93             70             31        0  30.4   \n",
       "\n",
       "     DiabetesPedigreeFunction  Age  Outcome  \n",
       "0                       0.627   50        1  \n",
       "1                       0.351   31        0  \n",
       "2                       0.672   32        1  \n",
       "3                       0.167   21        0  \n",
       "4                       2.288   33        1  \n",
       "..                        ...  ...      ...  \n",
       "763                     0.171   63        0  \n",
       "764                     0.340   27        0  \n",
       "765                     0.245   30        0  \n",
       "766                     0.349   47        1  \n",
       "767                     0.315   23        0  \n",
       "\n",
       "[768 rows x 9 columns]"
      ]
     },
     "execution_count": 42,
     "metadata": {},
     "output_type": "execute_result"
    }
   ],
   "source": [
    "diabetes"
   ]
  },
  {
   "cell_type": "code",
   "execution_count": 44,
   "id": "3e1d3c0c",
   "metadata": {},
   "outputs": [
    {
     "data": {
      "text/plain": [
       "0    500\n",
       "1    268\n",
       "Name: Outcome, dtype: int64"
      ]
     },
     "execution_count": 44,
     "metadata": {},
     "output_type": "execute_result"
    }
   ],
   "source": [
    "diabetes['Outcome'].value_counts()"
   ]
  },
  {
   "cell_type": "code",
   "execution_count": 45,
   "id": "1b5d0405",
   "metadata": {},
   "outputs": [
    {
     "name": "stdout",
     "output_type": "stream",
     "text": [
      "<class 'pandas.core.frame.DataFrame'>\n",
      "RangeIndex: 768 entries, 0 to 767\n",
      "Data columns (total 9 columns):\n",
      " #   Column                    Non-Null Count  Dtype  \n",
      "---  ------                    --------------  -----  \n",
      " 0   Pregnancies               768 non-null    int64  \n",
      " 1   Glucose                   768 non-null    int64  \n",
      " 2   BloodPressure             768 non-null    int64  \n",
      " 3   SkinThickness             768 non-null    int64  \n",
      " 4   Insulin                   768 non-null    int64  \n",
      " 5   BMI                       768 non-null    float64\n",
      " 6   DiabetesPedigreeFunction  768 non-null    float64\n",
      " 7   Age                       768 non-null    int64  \n",
      " 8   Outcome                   768 non-null    int64  \n",
      "dtypes: float64(2), int64(7)\n",
      "memory usage: 54.1 KB\n"
     ]
    }
   ],
   "source": [
    "diabetes.info()"
   ]
  },
  {
   "cell_type": "code",
   "execution_count": 46,
   "id": "3a928d05",
   "metadata": {},
   "outputs": [],
   "source": [
    "X = diabetes.drop('Outcome', axis=1)\n",
    "y = diabetes['Outcome']"
   ]
  },
  {
   "cell_type": "code",
   "execution_count": 48,
   "id": "50ea8e4a",
   "metadata": {},
   "outputs": [],
   "source": [
    "X_train, X_test, y_train, y_test = train_test_split(X, y, test_size=0.2, stratify=y, random_state=11)"
   ]
  },
  {
   "cell_type": "code",
   "execution_count": 49,
   "id": "33ae0673",
   "metadata": {},
   "outputs": [],
   "source": [
    "lr = LogisticRegression(solver='liblinear')"
   ]
  },
  {
   "cell_type": "code",
   "execution_count": 50,
   "id": "ec73e2eb",
   "metadata": {},
   "outputs": [
    {
     "data": {
      "text/plain": [
       "LogisticRegression(solver='liblinear')"
      ]
     },
     "execution_count": 50,
     "metadata": {},
     "output_type": "execute_result"
    }
   ],
   "source": [
    "lr.fit(X_train, y_train)"
   ]
  },
  {
   "cell_type": "code",
   "execution_count": 51,
   "id": "f4a56677",
   "metadata": {},
   "outputs": [],
   "source": [
    "pred = lr.predict(X_test)"
   ]
  },
  {
   "cell_type": "code",
   "execution_count": 61,
   "id": "7606534a",
   "metadata": {},
   "outputs": [
    {
     "name": "stdout",
     "output_type": "stream",
     "text": [
      "confusion matrix\n",
      "[[90 10]\n",
      " [23 31]]\n",
      "accuracy\n",
      "0.7857142857142857\n",
      "precision\n",
      "0.7560975609756098\n",
      "recall\n",
      "0.5740740740740741\n",
      "f1\n",
      "0.6526315789473683\n",
      "auc\n",
      "0.7370370370370369\n"
     ]
    }
   ],
   "source": [
    "print('confusion matrix')\n",
    "print(confusion_matrix(y_test, pred))\n",
    "print('accuracy')\n",
    "print(accuracy_score(y_test, pred))\n",
    "print('precision')\n",
    "print(precision_score(y_test, pred))\n",
    "print('recall')\n",
    "print(recall_score(y_test, pred))\n",
    "print('f1')\n",
    "print(f1_score(y_test, pred))\n",
    "print('auc')\n",
    "print(roc_auc_score(y_test, pred))"
   ]
  },
  {
   "cell_type": "code",
   "execution_count": 65,
   "id": "0bb96cb6",
   "metadata": {},
   "outputs": [],
   "source": [
    "pred_proba_c1 = lr.predict_proba(X_test)[:, 1]"
   ]
  },
  {
   "cell_type": "code",
   "execution_count": 66,
   "id": "78a46788",
   "metadata": {},
   "outputs": [
    {
     "data": {
      "image/png": "[encoded data removed]",
      "text/plain": [
       "<Figure size 800x600 with 1 Axes>"
      ]
     },
     "metadata": {},
     "output_type": "display_data"
    }
   ],
   "source": [
    "precision_recall_curve_plot(y_test, pred_proba_c1)"
   ]
  },
  {
   "cell_type": "code",
   "execution_count": 67,
   "id": "5baff731",
   "metadata": {},
   "outputs": [
    {
     "data": {
      "text/html": [
       "<div>\n",
       "<style scoped>\n",
       "    .dataframe tbody tr th:only-of-type {\n",
       "        vertical-align: middle;\n",
       "    }\n",
       "\n",
       "    .dataframe tbody tr th {\n",
       "        vertical-align: top;\n",
       "    }\n",
       "\n",
       "    .dataframe thead th {\n",
       "        text-align: right;\n",
       "    }\n",
       "</style>\n",
       "<table border=\"1\" class=\"dataframe\">\n",
       "  <thead>\n",
       "    <tr style=\"text-align: right;\">\n",
       "      <th></th>\n",
       "      <th>Pregnancies</th>\n",
       "      <th>Glucose</th>\n",
       "      <th>BloodPressure</th>\n",
       "      <th>SkinThickness</th>\n",
       "      <th>Insulin</th>\n",
       "      <th>BMI</th>\n",
       "      <th>DiabetesPedigreeFunction</th>\n",
       "      <th>Age</th>\n",
       "      <th>Outcome</th>\n",
       "    </tr>\n",
       "  </thead>\n",
       "  <tbody>\n",
       "    <tr>\n",
       "      <th>count</th>\n",
       "      <td>768.000000</td>\n",
       "      <td>768.000000</td>\n",
       "      <td>768.000000</td>\n",
       "      <td>768.000000</td>\n",
       "      <td>768.000000</td>\n",
       "      <td>768.000000</td>\n",
       "      <td>768.000000</td>\n",
       "      <td>768.000000</td>\n",
       "      <td>768.000000</td>\n",
       "    </tr>\n",
       "    <tr>\n",
       "      <th>mean</th>\n",
       "      <td>3.845052</td>\n",
       "      <td>120.894531</td>\n",
       "      <td>69.105469</td>\n",
       "      <td>20.536458</td>\n",
       "      <td>79.799479</td>\n",
       "      <td>31.992578</td>\n",
       "      <td>0.471876</td>\n",
       "      <td>33.240885</td>\n",
       "      <td>0.348958</td>\n",
       "    </tr>\n",
       "    <tr>\n",
       "      <th>std</th>\n",
       "      <td>3.369578</td>\n",
       "      <td>31.972618</td>\n",
       "      <td>19.355807</td>\n",
       "      <td>15.952218</td>\n",
       "      <td>115.244002</td>\n",
       "      <td>7.884160</td>\n",
       "      <td>0.331329</td>\n",
       "      <td>11.760232</td>\n",
       "      <td>0.476951</td>\n",
       "    </tr>\n",
       "    <tr>\n",
       "      <th>min</th>\n",
       "      <td>0.000000</td>\n",
       "      <td>0.000000</td>\n",
       "      <td>0.000000</td>\n",
       "      <td>0.000000</td>\n",
       "      <td>0.000000</td>\n",
       "      <td>0.000000</td>\n",
       "      <td>0.078000</td>\n",
       "      <td>21.000000</td>\n",
       "      <td>0.000000</td>\n",
       "    </tr>\n",
       "    <tr>\n",
       "      <th>25%</th>\n",
       "      <td>1.000000</td>\n",
       "      <td>99.000000</td>\n",
       "      <td>62.000000</td>\n",
       "      <td>0.000000</td>\n",
       "      <td>0.000000</td>\n",
       "      <td>27.300000</td>\n",
       "      <td>0.243750</td>\n",
       "      <td>24.000000</td>\n",
       "      <td>0.000000</td>\n",
       "    </tr>\n",
       "    <tr>\n",
       "      <th>50%</th>\n",
       "      <td>3.000000</td>\n",
       "      <td>117.000000</td>\n",
       "      <td>72.000000</td>\n",
       "      <td>23.000000</td>\n",
       "      <td>30.500000</td>\n",
       "      <td>32.000000</td>\n",
       "      <td>0.372500</td>\n",
       "      <td>29.000000</td>\n",
       "      <td>0.000000</td>\n",
       "    </tr>\n",
       "    <tr>\n",
       "      <th>75%</th>\n",
       "      <td>6.000000</td>\n",
       "      <td>140.250000</td>\n",
       "      <td>80.000000</td>\n",
       "      <td>32.000000</td>\n",
       "      <td>127.250000</td>\n",
       "      <td>36.600000</td>\n",
       "      <td>0.626250</td>\n",
       "      <td>41.000000</td>\n",
       "      <td>1.000000</td>\n",
       "    </tr>\n",
       "    <tr>\n",
       "      <th>max</th>\n",
       "      <td>17.000000</td>\n",
       "      <td>199.000000</td>\n",
       "      <td>122.000000</td>\n",
       "      <td>99.000000</td>\n",
       "      <td>846.000000</td>\n",
       "      <td>67.100000</td>\n",
       "      <td>2.420000</td>\n",
       "      <td>81.000000</td>\n",
       "      <td>1.000000</td>\n",
       "    </tr>\n",
       "  </tbody>\n",
       "</table>\n",
       "</div>"
      ],
      "text/plain": [
       "       Pregnancies     Glucose  BloodPressure  SkinThickness     Insulin  \\\n",
       "count   768.000000  768.000000     768.000000     768.000000  768.000000   \n",
       "mean      3.845052  120.894531      69.105469      20.536458   79.799479   \n",
       "std       3.369578   31.972618      19.355807      15.952218  115.244002   \n",
       "min       0.000000    0.000000       0.000000       0.000000    0.000000   \n",
       "25%       1.000000   99.000000      62.000000       0.000000    0.000000   \n",
       "50%       3.000000  117.000000      72.000000      23.000000   30.500000   \n",
       "75%       6.000000  140.250000      80.000000      32.000000  127.250000   \n",
       "max      17.000000  199.000000     122.000000      99.000000  846.000000   \n",
       "\n",
       "              BMI  DiabetesPedigreeFunction         Age     Outcome  \n",
       "count  768.000000                768.000000  768.000000  768.000000  \n",
       "mean    31.992578                  0.471876   33.240885    0.348958  \n",
       "std      7.884160                  0.331329   11.760232    0.476951  \n",
       "min      0.000000                  0.078000   21.000000    0.000000  \n",
       "25%     27.300000                  0.243750   24.000000    0.000000  \n",
       "50%     32.000000                  0.372500   29.000000    0.000000  \n",
       "75%     36.600000                  0.626250   41.000000    1.000000  \n",
       "max     67.100000                  2.420000   81.000000    1.000000  "
      ]
     },
     "execution_count": 67,
     "metadata": {},
     "output_type": "execute_result"
    }
   ],
   "source": [
    "diabetes.describe()"
   ]
  },
  {
   "cell_type": "markdown",
   "id": "813cb5a3",
   "metadata": {},
   "source": [
    "- 최솟값이 0인 컬럼 검사 필요"
   ]
  },
  {
   "cell_type": "code",
   "execution_count": 82,
   "id": "1f509907",
   "metadata": {},
   "outputs": [
    {
     "name": "stdout",
     "output_type": "stream",
     "text": [
      "Glucose에서 0값을 가진 데이터 개수: 5\n",
      "Glucose의 0값 비율: 0.65%\n",
      "\n",
      "BloodPressure에서 0값을 가진 데이터 개수: 35\n",
      "BloodPressure의 0값 비율: 4.56%\n",
      "\n",
      "SkinThickness에서 0값을 가진 데이터 개수: 227\n",
      "SkinThickness의 0값 비율: 29.56%\n",
      "\n",
      "Insulin에서 0값을 가진 데이터 개수: 374\n",
      "Insulin의 0값 비율: 48.7%\n",
      "\n",
      "BMI에서 0값을 가진 데이터 개수: 11\n",
      "BMI의 0값 비율: 1.43%\n",
      "\n"
     ]
    }
   ],
   "source": [
    "zero_features = ['Glucose', 'BloodPressure', 'SkinThickness', 'Insulin', 'BMI']\n",
    "\n",
    "total_count = diabetes.shape[0]\n",
    "for feature in zero_features:\n",
    "    print(f'{feature}에서 0값을 가진 데이터 개수: {diabetes.loc[diabetes[feature]==0, feature].count()}')\n",
    "    print(f'{feature}의 0값 비율: {round(100 * (diabetes.loc[diabetes[feature]==0, feature].count() / total_count), 2)}%')\n",
    "    print()\n",
    "    "
   ]
  },
  {
   "cell_type": "code",
   "execution_count": 87,
   "id": "9d48d54d",
   "metadata": {},
   "outputs": [],
   "source": [
    "mean_zero_features = diabetes[zero_features].mean()\n",
    "diabetes[zero_features] = diabetes[zero_features].replace(0, mean_zero_features)"
   ]
  },
  {
   "cell_type": "code",
   "execution_count": 89,
   "id": "74073b9f",
   "metadata": {},
   "outputs": [
    {
     "data": {
      "text/html": [
       "<div>\n",
       "<style scoped>\n",
       "    .dataframe tbody tr th:only-of-type {\n",
       "        vertical-align: middle;\n",
       "    }\n",
       "\n",
       "    .dataframe tbody tr th {\n",
       "        vertical-align: top;\n",
       "    }\n",
       "\n",
       "    .dataframe thead th {\n",
       "        text-align: right;\n",
       "    }\n",
       "</style>\n",
       "<table border=\"1\" class=\"dataframe\">\n",
       "  <thead>\n",
       "    <tr style=\"text-align: right;\">\n",
       "      <th></th>\n",
       "      <th>Pregnancies</th>\n",
       "      <th>Glucose</th>\n",
       "      <th>BloodPressure</th>\n",
       "      <th>SkinThickness</th>\n",
       "      <th>Insulin</th>\n",
       "      <th>BMI</th>\n",
       "      <th>DiabetesPedigreeFunction</th>\n",
       "      <th>Age</th>\n",
       "      <th>Outcome</th>\n",
       "    </tr>\n",
       "  </thead>\n",
       "  <tbody>\n",
       "    <tr>\n",
       "      <th>count</th>\n",
       "      <td>768.000000</td>\n",
       "      <td>768.000000</td>\n",
       "      <td>768.000000</td>\n",
       "      <td>768.000000</td>\n",
       "      <td>768.000000</td>\n",
       "      <td>768.000000</td>\n",
       "      <td>768.000000</td>\n",
       "      <td>768.000000</td>\n",
       "      <td>768.000000</td>\n",
       "    </tr>\n",
       "    <tr>\n",
       "      <th>mean</th>\n",
       "      <td>3.845052</td>\n",
       "      <td>121.681605</td>\n",
       "      <td>72.254807</td>\n",
       "      <td>26.606479</td>\n",
       "      <td>118.660163</td>\n",
       "      <td>32.450805</td>\n",
       "      <td>0.471876</td>\n",
       "      <td>33.240885</td>\n",
       "      <td>0.348958</td>\n",
       "    </tr>\n",
       "    <tr>\n",
       "      <th>std</th>\n",
       "      <td>3.369578</td>\n",
       "      <td>30.436016</td>\n",
       "      <td>12.115932</td>\n",
       "      <td>9.631241</td>\n",
       "      <td>93.080358</td>\n",
       "      <td>6.875374</td>\n",
       "      <td>0.331329</td>\n",
       "      <td>11.760232</td>\n",
       "      <td>0.476951</td>\n",
       "    </tr>\n",
       "    <tr>\n",
       "      <th>min</th>\n",
       "      <td>0.000000</td>\n",
       "      <td>44.000000</td>\n",
       "      <td>24.000000</td>\n",
       "      <td>7.000000</td>\n",
       "      <td>14.000000</td>\n",
       "      <td>18.200000</td>\n",
       "      <td>0.078000</td>\n",
       "      <td>21.000000</td>\n",
       "      <td>0.000000</td>\n",
       "    </tr>\n",
       "    <tr>\n",
       "      <th>25%</th>\n",
       "      <td>1.000000</td>\n",
       "      <td>99.750000</td>\n",
       "      <td>64.000000</td>\n",
       "      <td>20.536458</td>\n",
       "      <td>79.799479</td>\n",
       "      <td>27.500000</td>\n",
       "      <td>0.243750</td>\n",
       "      <td>24.000000</td>\n",
       "      <td>0.000000</td>\n",
       "    </tr>\n",
       "    <tr>\n",
       "      <th>50%</th>\n",
       "      <td>3.000000</td>\n",
       "      <td>117.000000</td>\n",
       "      <td>72.000000</td>\n",
       "      <td>23.000000</td>\n",
       "      <td>79.799479</td>\n",
       "      <td>32.000000</td>\n",
       "      <td>0.372500</td>\n",
       "      <td>29.000000</td>\n",
       "      <td>0.000000</td>\n",
       "    </tr>\n",
       "    <tr>\n",
       "      <th>75%</th>\n",
       "      <td>6.000000</td>\n",
       "      <td>140.250000</td>\n",
       "      <td>80.000000</td>\n",
       "      <td>32.000000</td>\n",
       "      <td>127.250000</td>\n",
       "      <td>36.600000</td>\n",
       "      <td>0.626250</td>\n",
       "      <td>41.000000</td>\n",
       "      <td>1.000000</td>\n",
       "    </tr>\n",
       "    <tr>\n",
       "      <th>max</th>\n",
       "      <td>17.000000</td>\n",
       "      <td>199.000000</td>\n",
       "      <td>122.000000</td>\n",
       "      <td>99.000000</td>\n",
       "      <td>846.000000</td>\n",
       "      <td>67.100000</td>\n",
       "      <td>2.420000</td>\n",
       "      <td>81.000000</td>\n",
       "      <td>1.000000</td>\n",
       "    </tr>\n",
       "  </tbody>\n",
       "</table>\n",
       "</div>"
      ],
      "text/plain": [
       "       Pregnancies     Glucose  BloodPressure  SkinThickness     Insulin  \\\n",
       "count   768.000000  768.000000     768.000000     768.000000  768.000000   \n",
       "mean      3.845052  121.681605      72.254807      26.606479  118.660163   \n",
       "std       3.369578   30.436016      12.115932       9.631241   93.080358   \n",
       "min       0.000000   44.000000      24.000000       7.000000   14.000000   \n",
       "25%       1.000000   99.750000      64.000000      20.536458   79.799479   \n",
       "50%       3.000000  117.000000      72.000000      23.000000   79.799479   \n",
       "75%       6.000000  140.250000      80.000000      32.000000  127.250000   \n",
       "max      17.000000  199.000000     122.000000      99.000000  846.000000   \n",
       "\n",
       "              BMI  DiabetesPedigreeFunction         Age     Outcome  \n",
       "count  768.000000                768.000000  768.000000  768.000000  \n",
       "mean    32.450805                  0.471876   33.240885    0.348958  \n",
       "std      6.875374                  0.331329   11.760232    0.476951  \n",
       "min     18.200000                  0.078000   21.000000    0.000000  \n",
       "25%     27.500000                  0.243750   24.000000    0.000000  \n",
       "50%     32.000000                  0.372500   29.000000    0.000000  \n",
       "75%     36.600000                  0.626250   41.000000    1.000000  \n",
       "max     67.100000                  2.420000   81.000000    1.000000  "
      ]
     },
     "execution_count": 89,
     "metadata": {},
     "output_type": "execute_result"
    }
   ],
   "source": [
    "diabetes.describe()"
   ]
  },
  {
   "cell_type": "code",
   "execution_count": 91,
   "id": "460c98f5",
   "metadata": {},
   "outputs": [],
   "source": [
    "ss = StandardScaler()"
   ]
  },
  {
   "cell_type": "code",
   "execution_count": 93,
   "id": "aeb219e4",
   "metadata": {},
   "outputs": [],
   "source": [
    "X = diabetes.drop('Outcome', axis=1)\n",
    "y = diabetes['Outcome']"
   ]
  },
  {
   "cell_type": "code",
   "execution_count": 95,
   "id": "7d042c74",
   "metadata": {},
   "outputs": [],
   "source": [
    "X_scaled = ss.fit_transform(X)"
   ]
  },
  {
   "cell_type": "code",
   "execution_count": 118,
   "id": "035a4edf",
   "metadata": {},
   "outputs": [],
   "source": [
    "X_train, X_test, y_train, y_test = train_test_split(X_scaled, y, test_size=0.2, stratify=y, random_state=11)"
   ]
  },
  {
   "cell_type": "code",
   "execution_count": 119,
   "id": "512deb20",
   "metadata": {},
   "outputs": [],
   "source": [
    "lr = LogisticRegression()"
   ]
  },
  {
   "cell_type": "code",
   "execution_count": 120,
   "id": "507472fd",
   "metadata": {},
   "outputs": [
    {
     "data": {
      "text/plain": [
       "LogisticRegression()"
      ]
     },
     "execution_count": 120,
     "metadata": {},
     "output_type": "execute_result"
    }
   ],
   "source": [
    "lr.fit(X_train, y_train)"
   ]
  },
  {
   "cell_type": "code",
   "execution_count": 121,
   "id": "144b4b15",
   "metadata": {},
   "outputs": [],
   "source": [
    "pred = lr.predict(X_test)"
   ]
  },
  {
   "cell_type": "code",
   "execution_count": 122,
   "id": "a32da9da",
   "metadata": {},
   "outputs": [
    {
     "name": "stdout",
     "output_type": "stream",
     "text": [
      "confusion matrix\n",
      "[[88 12]\n",
      " [25 29]]\n",
      "accuracy\n",
      "0.7597402597402597\n",
      "precision\n",
      "0.7073170731707317\n",
      "recall\n",
      "0.5370370370370371\n",
      "f1\n",
      "0.6105263157894738\n",
      "auc\n",
      "0.7085185185185187\n"
     ]
    }
   ],
   "source": [
    "print('confusion matrix')\n",
    "print(confusion_matrix(y_test, pred))\n",
    "print('accuracy')\n",
    "print(accuracy_score(y_test, pred))\n",
    "print('precision')\n",
    "print(precision_score(y_test, pred))\n",
    "print('recall')\n",
    "print(recall_score(y_test, pred))\n",
    "print('f1')\n",
    "print(f1_score(y_test, pred))\n",
    "print('auc')\n",
    "print(roc_auc_score(y_test, pred)"
   ]
  },
  {
   "cell_type": "code",
   "execution_count": 179,
   "id": "2b5e87ed",
   "metadata": {},
   "outputs": [],
   "source": [
    "threshold = [0.3, 0.33, 0.36, 0.42, 0.45, 0.48, 0.50]\n",
    "pred_proba = lr.predict_proba(X_test)"
   ]
  },
  {
   "cell_type": "code",
   "execution_count": 180,
   "id": "8b03f07c",
   "metadata": {},
   "outputs": [],
   "source": [
    "threshold_df = pd.DataFrame({'threshold': threshold})\n",
    "threshold_df['accuracy_score'] = 0\n",
    "threshold_df['precision'] = 0\n",
    "threshold_df['recall'] = 0\n",
    "threshold_df['f1'] = 0\n",
    "threshold_df['auc'] = 0\n",
    "threshold_df.index = threshold_df['threshold']\n",
    "threshold_df.drop('threshold', axis=1, inplace=True)\n",
    "\n",
    "for t in threshold:\n",
    "    pred = (pred_proba[:,1] > t).astype(int)\n",
    "    threshold_df.loc[t, 'accuracy_score'] = accuracy_score(y_test, pred)\n",
    "    threshold_df.loc[t, 'precision'] = precision_score(y_test, pred)\n",
    "    threshold_df.loc[t, 'recall'] = recall_score(y_test, pred)\n",
    "    threshold_df.loc[t, 'f1'] = f1_score(y_test, pred)\n",
    "    threshold_df.loc[t, 'auc'] = roc_auc_score(y_test, pred)"
   ]
  },
  {
   "cell_type": "code",
   "execution_count": 181,
   "id": "7ef68b3e",
   "metadata": {},
   "outputs": [
    {
     "data": {
      "text/html": [
       "<div>\n",
       "<style scoped>\n",
       "    .dataframe tbody tr th:only-of-type {\n",
       "        vertical-align: middle;\n",
       "    }\n",
       "\n",
       "    .dataframe tbody tr th {\n",
       "        vertical-align: top;\n",
       "    }\n",
       "\n",
       "    .dataframe thead th {\n",
       "        text-align: right;\n",
       "    }\n",
       "</style>\n",
       "<table border=\"1\" class=\"dataframe\">\n",
       "  <thead>\n",
       "    <tr style=\"text-align: right;\">\n",
       "      <th></th>\n",
       "      <th>accuracy_score</th>\n",
       "      <th>precision</th>\n",
       "      <th>recall</th>\n",
       "      <th>f1</th>\n",
       "      <th>auc</th>\n",
       "    </tr>\n",
       "    <tr>\n",
       "      <th>threshold</th>\n",
       "      <th></th>\n",
       "      <th></th>\n",
       "      <th></th>\n",
       "      <th></th>\n",
       "      <th></th>\n",
       "    </tr>\n",
       "  </thead>\n",
       "  <tbody>\n",
       "    <tr>\n",
       "      <th>0.30</th>\n",
       "      <td>0.753247</td>\n",
       "      <td>0.621212</td>\n",
       "      <td>0.759259</td>\n",
       "      <td>0.683333</td>\n",
       "      <td>0.754630</td>\n",
       "    </tr>\n",
       "    <tr>\n",
       "      <th>0.33</th>\n",
       "      <td>0.753247</td>\n",
       "      <td>0.629032</td>\n",
       "      <td>0.722222</td>\n",
       "      <td>0.672414</td>\n",
       "      <td>0.746111</td>\n",
       "    </tr>\n",
       "    <tr>\n",
       "      <th>0.36</th>\n",
       "      <td>0.759740</td>\n",
       "      <td>0.644068</td>\n",
       "      <td>0.703704</td>\n",
       "      <td>0.672566</td>\n",
       "      <td>0.746852</td>\n",
       "    </tr>\n",
       "    <tr>\n",
       "      <th>0.42</th>\n",
       "      <td>0.772727</td>\n",
       "      <td>0.686275</td>\n",
       "      <td>0.648148</td>\n",
       "      <td>0.666667</td>\n",
       "      <td>0.744074</td>\n",
       "    </tr>\n",
       "    <tr>\n",
       "      <th>0.45</th>\n",
       "      <td>0.785714</td>\n",
       "      <td>0.714286</td>\n",
       "      <td>0.648148</td>\n",
       "      <td>0.679612</td>\n",
       "      <td>0.754074</td>\n",
       "    </tr>\n",
       "    <tr>\n",
       "      <th>0.48</th>\n",
       "      <td>0.759740</td>\n",
       "      <td>0.697674</td>\n",
       "      <td>0.555556</td>\n",
       "      <td>0.618557</td>\n",
       "      <td>0.712778</td>\n",
       "    </tr>\n",
       "    <tr>\n",
       "      <th>0.50</th>\n",
       "      <td>0.759740</td>\n",
       "      <td>0.707317</td>\n",
       "      <td>0.537037</td>\n",
       "      <td>0.610526</td>\n",
       "      <td>0.708519</td>\n",
       "    </tr>\n",
       "  </tbody>\n",
       "</table>\n",
       "</div>"
      ],
      "text/plain": [
       "           accuracy_score  precision    recall        f1       auc\n",
       "threshold                                                         \n",
       "0.30             0.753247   0.621212  0.759259  0.683333  0.754630\n",
       "0.33             0.753247   0.629032  0.722222  0.672414  0.746111\n",
       "0.36             0.759740   0.644068  0.703704  0.672566  0.746852\n",
       "0.42             0.772727   0.686275  0.648148  0.666667  0.744074\n",
       "0.45             0.785714   0.714286  0.648148  0.679612  0.754074\n",
       "0.48             0.759740   0.697674  0.555556  0.618557  0.712778\n",
       "0.50             0.759740   0.707317  0.537037  0.610526  0.708519"
      ]
     },
     "execution_count": 181,
     "metadata": {},
     "output_type": "execute_result"
    }
   ],
   "source": [
    "threshold_df"
   ]
  },
  {
   "cell_type": "code",
   "execution_count": null,
   "id": "35565272",
   "metadata": {},
   "outputs": [],
   "source": []
  }
 ],
 "metadata": {
  "kernelspec": {
   "display_name": "Python 3 (ipykernel)",
   "language": "python",
   "name": "python3"
  },
  "language_info": {
   "codemirror_mode": {
    "name": "ipython",
    "version": 3
   },
   "file_extension": ".py",
   "mimetype": "text/x-python",
   "name": "python",
   "nbconvert_exporter": "python",
   "pygments_lexer": "ipython3",
   "version": "3.9.13"
  }
 },
 "nbformat": 4,
 "nbformat_minor": 5
}
